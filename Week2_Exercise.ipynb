{
 "cells": [
  {
   "cell_type": "markdown",
   "id": "c0c12be2",
   "metadata": {},
   "source": [
    "# Week 2 Exercise"
   ]
  },
  {
   "cell_type": "markdown",
   "id": "99c461a5",
   "metadata": {},
   "source": [
    "## Exercise 1"
   ]
  },
  {
   "cell_type": "code",
   "execution_count": 1,
   "id": "0ff67e3b",
   "metadata": {},
   "outputs": [],
   "source": [
    "def OddEven(x):\n",
    "    if isinstance(x, int):\n",
    "        if x%2 ==0 :\n",
    "            if x==0:\n",
    "                statement= \" is neither even or odd.\"\n",
    "            else:\n",
    "                statement = \" is even number.\"\n",
    "        else:\n",
    "            statement = \" is odd number.\"\n",
    "    else:\n",
    "        statement = \" is not an integer!\"\n",
    "    \n",
    "    return print(f\"{x}\" + statement)"
   ]
  },
  {
   "cell_type": "code",
   "execution_count": 14,
   "id": "ab1da660",
   "metadata": {
    "scrolled": true
   },
   "outputs": [
    {
     "name": "stdout",
     "output_type": "stream",
     "text": [
      "0 is neither even or odd.\n"
     ]
    }
   ],
   "source": [
    "OddEven(0)"
   ]
  },
  {
   "cell_type": "code",
   "execution_count": 15,
   "id": "1371bbbd",
   "metadata": {
    "scrolled": true
   },
   "outputs": [
    {
     "name": "stdout",
     "output_type": "stream",
     "text": [
      "77 is odd number.\n"
     ]
    }
   ],
   "source": [
    "OddEven(77)"
   ]
  },
  {
   "cell_type": "code",
   "execution_count": 2,
   "id": "af108df7",
   "metadata": {},
   "outputs": [
    {
     "name": "stdout",
     "output_type": "stream",
     "text": [
      "0.3 is not an integer!\n"
     ]
    }
   ],
   "source": [
    "OddEven(0.3)"
   ]
  },
  {
   "cell_type": "markdown",
   "id": "ff168aa6",
   "metadata": {},
   "source": [
    "## Exercise 2"
   ]
  },
  {
   "cell_type": "code",
   "execution_count": 4,
   "id": "56f2cc57",
   "metadata": {},
   "outputs": [],
   "source": [
    "import numpy as np"
   ]
  },
  {
   "cell_type": "code",
   "execution_count": 5,
   "id": "210b6356",
   "metadata": {},
   "outputs": [],
   "source": [
    "large_n = 1e5  # 100,000\n",
    "numpy_arr = np.arange(large_n)\n",
    "list_arr = list(range(int(large_n)))"
   ]
  },
  {
   "cell_type": "code",
   "execution_count": 6,
   "id": "9a108f37",
   "metadata": {},
   "outputs": [
    {
     "name": "stdout",
     "output_type": "stream",
     "text": [
      "[0. 1. 2. 3. 4.]\n",
      "[0, 1, 2, 3, 4]\n"
     ]
    }
   ],
   "source": [
    "print(numpy_arr[:5])\n",
    "print(list_arr[:5])"
   ]
  },
  {
   "cell_type": "code",
   "execution_count": 7,
   "id": "50273b1d",
   "metadata": {},
   "outputs": [
    {
     "name": "stdout",
     "output_type": "stream",
     "text": [
      "[99995. 99996. 99997. 99998. 99999.]\n",
      "[99995, 99996, 99997, 99998, 99999]\n"
     ]
    }
   ],
   "source": [
    "print(numpy_arr[-5:])\n",
    "print(list_arr[-5:])"
   ]
  },
  {
   "cell_type": "code",
   "execution_count": 8,
   "id": "070a95c1",
   "metadata": {},
   "outputs": [
    {
     "name": "stdout",
     "output_type": "stream",
     "text": [
      "52.6 µs ± 6.62 µs per loop (mean ± std. dev. of 7 runs, 10,000 loops each)\n"
     ]
    }
   ],
   "source": [
    "%timeit res = numpy_arr*2"
   ]
  },
  {
   "cell_type": "code",
   "execution_count": 10,
   "id": "72c50ca4",
   "metadata": {},
   "outputs": [
    {
     "name": "stdout",
     "output_type": "stream",
     "text": [
      "7.25 ms ± 211 µs per loop (mean ± std. dev. of 7 runs, 100 loops each)\n"
     ]
    }
   ],
   "source": [
    "%timeit res = [2* i for i in list_arr]"
   ]
  },
  {
   "cell_type": "markdown",
   "id": "57fc1283",
   "metadata": {},
   "source": [
    "## Exercise 3"
   ]
  },
  {
   "cell_type": "code",
   "execution_count": 11,
   "id": "c7018fb0",
   "metadata": {},
   "outputs": [
    {
     "name": "stdout",
     "output_type": "stream",
     "text": [
      "[0 1 2 3 4 5 6 7 8 9]\n",
      "[ 0  1  2  3 25 25 25  7  8  9]\n",
      "[-1 25 25]\n",
      "[ 0  1  2  3 -1 25 25  7  8  9]\n"
     ]
    }
   ],
   "source": [
    "# 3. \n",
    "my_arr = np.arange(10)\n",
    "print(my_arr)\n",
    "my_arr[4:7] = 25\n",
    "print(my_arr)\n",
    "arr_slice = my_arr[4:7]\n",
    "\n",
    "# Change the first element of arr_slice to -1\n",
    "arr_slice[0]= -1\n",
    "\n",
    "print(arr_slice)\n",
    "print(my_arr)"
   ]
  },
  {
   "cell_type": "markdown",
   "id": "03b50d16",
   "metadata": {},
   "source": [
    "What do you notice? Propose a way to reassign arr_slice with new value \n",
    "\n",
    "- When modify elements in arr_slice, elements in my_arr will also be affected and the value of elements change when elements in arr_slice are modified."
   ]
  },
  {
   "cell_type": "code",
   "execution_count": 12,
   "id": "f33748ca",
   "metadata": {},
   "outputs": [
    {
     "name": "stdout",
     "output_type": "stream",
     "text": [
      "[0 1 2 3 4 5 6 7 8 9]\n",
      "[ 0  1  2  3 25 25 25  7  8  9]\n",
      "[-1 25 25]\n",
      "[ 0  1  2  3 25 25 25  7  8  9]\n"
     ]
    }
   ],
   "source": [
    "# 3. \n",
    "my_arr = np.arange(10)\n",
    "print(my_arr)\n",
    "my_arr[4:7] = 25\n",
    "print(my_arr)\n",
    "arr_slice = my_arr[4:7].copy()\n",
    "\n",
    "# Change the first element of arr_slice to -1\n",
    "arr_slice[0]= -1\n",
    "\n",
    "print(arr_slice)\n",
    "print(my_arr)"
   ]
  },
  {
   "cell_type": "markdown",
   "id": "f0f1ee39",
   "metadata": {},
   "source": [
    "## Exercise 4"
   ]
  },
  {
   "cell_type": "code",
   "execution_count": 13,
   "id": "2afd49e7",
   "metadata": {},
   "outputs": [
    {
     "data": {
      "image/png": "[encoded data removed]",
      "text/plain": [
       "<Figure size 432x288 with 1 Axes>"
      ]
     },
     "metadata": {
      "needs_background": "light"
     },
     "output_type": "display_data"
    }
   ],
   "source": [
    "import numpy as np\n",
    "import matplotlib.pyplot as plt\n",
    "\n",
    "# Define image dimensions\n",
    "image_size = 200\n",
    "center = image_size // 2  # Middle of the image\n",
    "\n",
    "# Create a grid of coordinates\n",
    "x, y = np.meshgrid(np.arange(image_size), np.arange(image_size))\n",
    "\n",
    "# Create an empty image with black background\n",
    "image = np.zeros((image_size, image_size))\n",
    "\n",
    "# Create a circular mask\n",
    "radius = image_size // 4\n",
    "mask = (x - center) ** 2 + (y - center) ** 2 <= radius ** 2\n",
    "\n",
    "# Set the circular spot to white in the image\n",
    "image[mask] = 1\n",
    "\n",
    "# Display the image\n",
    "plt.imshow(image, cmap='gray')\n",
    "plt.axis('off')\n",
    "plt.show()"
   ]
  },
  {
   "cell_type": "code",
   "execution_count": null,
   "id": "ea5b3dd2",
   "metadata": {},
   "outputs": [],
   "source": []
  }
 ],
 "metadata": {
  "kernelspec": {
   "display_name": "Python 3 (ipykernel)",
   "language": "python",
   "name": "python3"
  },
  "language_info": {
   "codemirror_mode": {
    "name": "ipython",
    "version": 3
   },
   "file_extension": ".py",
   "mimetype": "text/x-python",
   "name": "python",
   "nbconvert_exporter": "python",
   "pygments_lexer": "ipython3",
   "version": "3.9.12"
  }
 },
 "nbformat": 4,
 "nbformat_minor": 5
}
